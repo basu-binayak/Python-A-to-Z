{
 "cells": [
  {
   "cell_type": "markdown",
   "id": "e32752b8",
   "metadata": {},
   "source": [
    "# Python A to Z: Part 1"
   ]
  },
  {
   "cell_type": "markdown",
   "id": "75992687",
   "metadata": {},
   "source": [
    "## Step 1:Print in Python"
   ]
  },
  {
   "cell_type": "code",
   "execution_count": 2,
   "id": "4bab3566",
   "metadata": {},
   "outputs": [
    {
     "name": "stdout",
     "output_type": "stream",
     "text": [
      "Hello! I am ready to explore the world of Python\n"
     ]
    }
   ],
   "source": [
    "# <--general syntax -->\n",
    "print(\"Hello! I am ready to explore the world of Python\")"
   ]
  },
  {
   "cell_type": "code",
   "execution_count": 1,
   "id": "3641c633",
   "metadata": {},
   "outputs": [
    {
     "name": "stdout",
     "output_type": "stream",
     "text": [
      "'\n",
      "\"\n"
     ]
    }
   ],
   "source": [
    "# printing a single quote(') inside double quotes(\" \") and double quote(\") \n",
    "# inside single quotes('') is possible\n",
    "\n",
    "print(\"'\") # o/p: '\n",
    "print('\"') # o/p: \""
   ]
  },
  {
   "cell_type": "code",
   "execution_count": 3,
   "id": "766b9e20",
   "metadata": {},
   "outputs": [
    {
     "name": "stdout",
     "output_type": "stream",
     "text": [
      "\" \n",
      "' \n",
      "\"\n",
      "'\n"
     ]
    }
   ],
   "source": [
    "# However print(\"\"\") gives error and so does print(''')\n",
    "\n",
    "# way out is triple quotes or \\(backslash) operator [escape operator]\n",
    "\n",
    "print(\"\"\"\" \"\"\") # Syntax: \"\"\"(triple quote)\"(space)\"\"\"(triple quote)\n",
    "print(\"\"\"' \"\"\")\n",
    "\n",
    "print(\"\\\"\")\n",
    "print('\\'')"
   ]
  },
  {
   "cell_type": "code",
   "execution_count": 4,
   "id": "cfa887c6",
   "metadata": {},
   "outputs": [
    {
     "name": "stdout",
     "output_type": "stream",
     "text": [
      "How are you , Rahul? It's raining today, so let's meet tomorrow evening.\n",
      "How are you , Rahul? It's raining today, so let's meet tomorrow evening.\n"
     ]
    }
   ],
   "source": [
    "# printing a statement using the concepts learnt above \n",
    "\n",
    "print(\"How are you , Rahul? It's raining today, so let's meet tomorrow evening.\") # using double quotes\n",
    "print('How are you , Rahul? It\\'s raining today, so let\\'s meet tomorrow evening.') # using single quotes"
   ]
  },
  {
   "cell_type": "code",
   "execution_count": 5,
   "id": "2cf94f18",
   "metadata": {},
   "outputs": [
    {
     "name": "stdout",
     "output_type": "stream",
     "text": [
      "Name: Rahul Sinha\n",
      "School: ABC School\n",
      "Age: 16\n",
      "Name: Rahul\n",
      "School: ABC School\n",
      "Age: 16\n",
      " Name: Rahul\n",
      " School: ABC School\n",
      " Age: 16\n"
     ]
    }
   ],
   "source": [
    "# changing line while printing a statement: using triple quotes or \\n operator\n",
    "# for better readability\n",
    "\n",
    "#using triple quotes\n",
    "print(\"\"\"Name: Rahul Sinha\n",
    "School: ABC School\n",
    "Age: 16\"\"\")\n",
    "\n",
    "#using \\n operator\n",
    "print(\"Name: Rahul\\nSchool: ABC School\\nAge: 16\")\n",
    "\n",
    "# Note: If a space is added before or after the \\n operator, the space gets reflected in the o/p also.\n",
    "print(\" Name: Rahul\\n School: ABC School\\n Age: 16\") # o/p shifts to right by a single space"
   ]
  },
  {
   "cell_type": "code",
   "execution_count": 6,
   "id": "9816ef89",
   "metadata": {},
   "outputs": [
    {
     "name": "stdout",
     "output_type": "stream",
     "text": [
      "ABC\n",
      "\n",
      "\n",
      "DEF\n",
      "\n",
      "ABC\n",
      "\n",
      "\n",
      "DEF\n"
     ]
    }
   ],
   "source": [
    "# let us try something new! \n",
    "print(\"ABC\"+3*'\\n'+'DEF') # b/w the two lines there will be 2 blank lines\n",
    "#<--the first \\n takes to a new line-->\n",
    "#<--the second \\n inserts a blank line and the third adds another-->\n",
    "\n",
    "print()\n",
    "\n",
    "print('ABC')\n",
    "print(1*'\\n')\n",
    "print('DEF')\n",
    "\n",
    "# the two codes are similar in result"
   ]
  },
  {
   "cell_type": "code",
   "execution_count": 7,
   "id": "7472c20b",
   "metadata": {},
   "outputs": [
    {
     "name": "stdout",
     "output_type": "stream",
     "text": [
      "Rahul\tSinha\tRoy\n",
      "Rahul   Sinha   Roy\n"
     ]
    }
   ],
   "source": [
    "# note: \\t gets 4 spaces in between\n",
    "\n",
    "print(\"Rahul\\tSinha\\tRoy\")\n",
    "print('Rahul'+3*' '+'Sinha'+3*' '+'Roy') # same as above\n",
    "#<--the above two statements are equivalent-->"
   ]
  },
  {
   "cell_type": "code",
   "execution_count": 10,
   "id": "4871f943",
   "metadata": {},
   "outputs": [
    {
     "name": "stdout",
     "output_type": "stream",
     "text": [
      "9 8 7 6\n",
      "9 8 7 6\n",
      "9 8 7 6\n"
     ]
    }
   ],
   "source": [
    "# Let us now print 9 8 7 6. What are the ways of doing it? \n",
    "# Here there is a very common mistake that a beginner does. Let's see. \n",
    "\n",
    "print(\"9 8 7 6\")\n",
    "print('9 8 7 6')\n",
    "print(9,8,7,6) # when we put comma, it adds a space\n",
    "\n",
    "#however print(9 8 7 6) throws an error since it is mixing the int and the str type."
   ]
  },
  {
   "cell_type": "code",
   "execution_count": 11,
   "id": "5f3e4cf0",
   "metadata": {},
   "outputs": [
    {
     "ename": "SyntaxError",
     "evalue": "invalid syntax (3397993117.py, line 1)",
     "output_type": "error",
     "traceback": [
      "\u001b[1;36m  Input \u001b[1;32mIn [11]\u001b[1;36m\u001b[0m\n\u001b[1;33m    print(9 8 7 6) # gives a syntax error\u001b[0m\n\u001b[1;37m            ^\u001b[0m\n\u001b[1;31mSyntaxError\u001b[0m\u001b[1;31m:\u001b[0m invalid syntax\n"
     ]
    }
   ],
   "source": [
    "print(9 8 7 6) # gives a syntax error"
   ]
  },
  {
   "cell_type": "code",
   "execution_count": 12,
   "id": "1541f0ac",
   "metadata": {},
   "outputs": [
    {
     "name": "stdout",
     "output_type": "stream",
     "text": [
      "My age is 28\n"
     ]
    }
   ],
   "source": [
    "# combining string and int\n",
    "#<--I will discuss data type in a later notebook-->\n",
    "print(\"My age\",\"is\",28)"
   ]
  },
  {
   "cell_type": "code",
   "execution_count": 13,
   "id": "1abac5fa",
   "metadata": {},
   "outputs": [
    {
     "name": "stdout",
     "output_type": "stream",
     "text": [
      "Hello Vayu, I have heard that you are more stronger than Jal. Why don't you two fight against each other?\n"
     ]
    }
   ],
   "source": [
    "print(\"Hello Vayu, I have heard that you are more stronger than Jal.\\\n",
    " Why don't you two fight against each other?\")\n",
    "\n",
    "# \\ operator keeps the content on the same line \n",
    "# even though we input it on a separate line.  "
   ]
  },
  {
   "cell_type": "code",
   "execution_count": 14,
   "id": "f569b250",
   "metadata": {},
   "outputs": [
    {
     "name": "stdout",
     "output_type": "stream",
     "text": [
      "Hello Rahul! Your age is 50\n",
      "Hello Rahul! Your age is 50\n",
      "Hello Rahul! Your age is 50\n"
     ]
    }
   ],
   "source": [
    "#<-- usage of f strings and format-->\n",
    "age=50\n",
    "name = 'Rahul'\n",
    "\n",
    "print(\"Hello {}! Your age is {}\".format(name,age))\n",
    "print(\"Hello {1}! Your age is {0}\".format(age,name))\n",
    "print(f\"Hello {name}! Your age is {age}\")  # use of f string (recommended)"
   ]
  },
  {
   "cell_type": "code",
   "execution_count": 15,
   "id": "3698cbb2",
   "metadata": {},
   "outputs": [
    {
     "name": "stdout",
     "output_type": "stream",
     "text": [
      "Number 0 square is 0 and cube is 0\n",
      "Number 1 square is 1 and cube is 1\n",
      "Number 2 square is 4 and cube is 8\n",
      "Number 3 square is 9 and cube is 27\n",
      "Number 4 square is 16 and cube is 64\n",
      "Number 5 square is 25 and cube is 125\n",
      "Number 6 square is 36 and cube is 216\n",
      "Number 7 square is 49 and cube is 343\n",
      "Number 8 square is 64 and cube is 512\n",
      "Number 9 square is 81 and cube is 729\n",
      "Number 10 square is 100 and cube is 1000\n"
     ]
    }
   ],
   "source": [
    "#let us do something new!\n",
    "\n",
    "# try a for loop\n",
    "#<--don't worry of the syntax, just enjoy the results-->\n",
    "for i in range(11):\n",
    "    print(\"Number {0} square is {1} and cube is {2}\".format(i,i**2,i**3))"
   ]
  },
  {
   "cell_type": "markdown",
   "id": "50a2ab43",
   "metadata": {},
   "source": [
    "Look at the o/p. Clearly it is not properly alligned!"
   ]
  },
  {
   "cell_type": "code",
   "execution_count": 16,
   "id": "8a190dc5",
   "metadata": {},
   "outputs": [
    {
     "name": "stdout",
     "output_type": "stream",
     "text": [
      "Number  0 square is   0 and cube is    0\n",
      "Number  1 square is   1 and cube is    1\n",
      "Number  2 square is   4 and cube is    8\n",
      "Number  3 square is   9 and cube is   27\n",
      "Number  4 square is  16 and cube is   64\n",
      "Number  5 square is  25 and cube is  125\n",
      "Number  6 square is  36 and cube is  216\n",
      "Number  7 square is  49 and cube is  343\n",
      "Number  8 square is  64 and cube is  512\n",
      "Number  9 square is  81 and cube is  729\n",
      "Number 10 square is 100 and cube is 1000\n"
     ]
    }
   ],
   "source": [
    "for i in range(11):\n",
    "    print(\"Number {0:2} square is {1:3} and cube is {2:4}\".format(i,i**2,i**3))\n",
    "    #<--{0:2} -> here 2 is the width to consider -->"
   ]
  },
  {
   "cell_type": "markdown",
   "id": "545d5497",
   "metadata": {},
   "source": [
    "OK! But here is another problem! Look the numbers are right alligned but we generlly see them left alligned. Let us manipulate the code a bit"
   ]
  },
  {
   "cell_type": "code",
   "execution_count": 17,
   "id": "c4e347c1",
   "metadata": {},
   "outputs": [
    {
     "name": "stdout",
     "output_type": "stream",
     "text": [
      "Number 0  square is 0   and cube is 0   \n",
      "Number 1  square is 1   and cube is 1   \n",
      "Number 2  square is 4   and cube is 8   \n",
      "Number 3  square is 9   and cube is 27  \n",
      "Number 4  square is 16  and cube is 64  \n",
      "Number 5  square is 25  and cube is 125 \n",
      "Number 6  square is 36  and cube is 216 \n",
      "Number 7  square is 49  and cube is 343 \n",
      "Number 8  square is 64  and cube is 512 \n",
      "Number 9  square is 81  and cube is 729 \n",
      "Number 10 square is 100 and cube is 1000\n"
     ]
    }
   ],
   "source": [
    "for i in range(11):\n",
    "    print(\"Number {0:<2} square is {1:<3} and cube is {2:<4}\".format(i,i**2,i**3))"
   ]
  },
  {
   "cell_type": "markdown",
   "id": "ce98c84e",
   "metadata": {},
   "source": [
    "**Note**\n",
    "1. $<$ : Left alligned\n",
    "2. $>$ : Right alligned\n",
    "3. $^$ : Centre alligned"
   ]
  },
  {
   "cell_type": "code",
   "execution_count": 18,
   "id": "b59d220c",
   "metadata": {},
   "outputs": [
    {
     "name": "stdout",
     "output_type": "stream",
     "text": [
      "Pi is approx. 3.142857142857143\n",
      "Pi is approx.     3.142857\n",
      "Pi is approx. 3.142857    \n",
      "Pi is approx. 3.14285714285714279370154144999105483293533325195312\n"
     ]
    }
   ],
   "source": [
    "# fixing the decimal points! useful while printing \n",
    "\n",
    "print(f\"Pi is approx. {22/7:12}\") # default 15 digits after decimal\n",
    "print(f\"Pi is approx. {22/7:12f}\")\n",
    "print(f\"Pi is approx. {22/7:<12f}\") # 6 digits after decimal and left alligned\n",
    "print(f\"Pi is approx. {22/7:12.50f}\")\n",
    "# In the last line Python shows 50 decimal points"
   ]
  },
  {
   "cell_type": "markdown",
   "id": "38a45fbe",
   "metadata": {},
   "source": [
    "## Step 2: Taking input from the user"
   ]
  },
  {
   "cell_type": "code",
   "execution_count": 19,
   "id": "cb183ac8",
   "metadata": {},
   "outputs": [
    {
     "name": "stdout",
     "output_type": "stream",
     "text": [
      "Hello! What is your name?\n",
      "Mahesh\n",
      "Hello Mahesh , How are you?\n"
     ]
    }
   ],
   "source": [
    "print(\"Hello! What is your name?\")\n",
    "n=input() # takes an input from the user\n",
    "print(\"Hello\",n,\", How are you?\")"
   ]
  },
  {
   "cell_type": "code",
   "execution_count": 22,
   "id": "196181bd",
   "metadata": {},
   "outputs": [
    {
     "name": "stdout",
     "output_type": "stream",
     "text": [
      "Type your name:\n",
      "Mahesh\n",
      "Type your location:\n",
      "Bangalore\n",
      "What is your age\n",
      "29\n",
      "Hello Mahesh! Your location is Bangalore and your age is 29.\n"
     ]
    }
   ],
   "source": [
    "#<--a little exercise to take i/o -->\n",
    "print(\"Type your name:\")\n",
    "name = str(input())\n",
    "\n",
    "print(\"Type your location:\")\n",
    "loc= str(input())\n",
    "\n",
    "print(\"What is your age\")\n",
    "age=int(input())\n",
    "\n",
    "print(f\"Hello {name}! Your location is {loc} and your age is {age}.\")"
   ]
  },
  {
   "cell_type": "code",
   "execution_count": 21,
   "id": "9e601647",
   "metadata": {},
   "outputs": [
    {
     "name": "stdout",
     "output_type": "stream",
     "text": [
      "Type your name: Mahesh\n",
      "Type your location: Bangalore\n",
      "Enter your age: 29\n",
      "Hello Mahesh! Your location is Bangalore and your age is 29.\n"
     ]
    }
   ],
   "source": [
    "#<--Note that in the above exercise the print and the i/o statement are \n",
    "#--written separately-->\n",
    "\n",
    "#<--Let us merge them together-->\n",
    "\n",
    "name = str(input(\"Type your name: \"))\n",
    "loc=str(input(\"Type your location: \"))\n",
    "age = int(input(\"Enter your age: \"))\n",
    "\n",
    "print(f\"Hello {name}! Your location is {loc} and your age is {age}.\")"
   ]
  },
  {
   "cell_type": "markdown",
   "id": "6cc2326f",
   "metadata": {},
   "source": [
    "## Some Extras...!"
   ]
  },
  {
   "cell_type": "code",
   "execution_count": 24,
   "id": "2274928a",
   "metadata": {},
   "outputs": [
    {
     "name": "stdout",
     "output_type": "stream",
     "text": [
      "True\n",
      "True\n"
     ]
    }
   ],
   "source": [
    "#<-- a little note on string comparisons -->\n",
    "# NOTE: Two strings can be compared based on the dictionary.\n",
    "# If a word comes earlier in a dictionary then it is smaller than the other \n",
    "# For example: vidyut>vidzut\n",
    "# Remember , however here case matters i.e Ram<ram or Vidyut<vidyut\n",
    "'''\n",
    "REASON\n",
    "\n",
    "ASCII value of uppercase alphabets – 65 to 90. \n",
    "ASCII value of lowercase alphabets – 97 to 122.\n",
    "ASCII value of digits [0 – 9] ranges from [48 – 57]\n",
    "'''\n",
    "name1 = \"vidyut\"\n",
    "name2 = \"vidzut\"\n",
    "print(name1<name2) \n",
    "\n",
    "name1 = \"Vidyut\"\n",
    "name2 = \"vidyut\"\n",
    "print(name1<name2) # False since V<u(in ASCII)"
   ]
  },
  {
   "cell_type": "code",
   "execution_count": 25,
   "id": "c3be5c99",
   "metadata": {},
   "outputs": [
    {
     "name": "stdout",
     "output_type": "stream",
     "text": [
      "Mahesh\n",
      "mahesh\n",
      "True\n",
      "----------\n",
      "Ramesh\n",
      "ramesh\n",
      "True\n"
     ]
    }
   ],
   "source": [
    "'''\n",
    "Take two names as input(small letters) and print True if the first name comes \n",
    "earlier in a dictionary\n",
    "'''\n",
    "name1 = input()\n",
    "name2 = input()\n",
    "print(name1<name2)\n",
    "\n",
    "print('----------')\n",
    "\n",
    "print(input()<input()) # all 3 steps combined into one. "
   ]
  },
  {
   "cell_type": "markdown",
   "id": "180b662e",
   "metadata": {},
   "source": [
    "# END of Python A to Z: Part 1 "
   ]
  }
 ],
 "metadata": {
  "kernelspec": {
   "display_name": "Python 3 (ipykernel)",
   "language": "python",
   "name": "python3"
  },
  "language_info": {
   "codemirror_mode": {
    "name": "ipython",
    "version": 3
   },
   "file_extension": ".py",
   "mimetype": "text/x-python",
   "name": "python",
   "nbconvert_exporter": "python",
   "pygments_lexer": "ipython3",
   "version": "3.9.12"
  }
 },
 "nbformat": 4,
 "nbformat_minor": 5
}
